{
 "cells": [
  {
   "cell_type": "code",
   "execution_count": 1,
   "id": "cb2b59db-c53f-4d55-be90-79e6b8159f16",
   "metadata": {},
   "outputs": [],
   "source": [
    "import numpy as np"
   ]
  },
  {
   "cell_type": "code",
   "execution_count": 2,
   "id": "03d44fb8-ec76-43ac-b92c-8c8d2075ce8c",
   "metadata": {},
   "outputs": [],
   "source": [
    "arr = np.random.randint(low=1, high=100, size=20).reshape(4,5)"
   ]
  },
  {
   "cell_type": "code",
   "execution_count": 3,
   "id": "95d0778f-6e1b-4bcf-8696-d95d8132e55d",
   "metadata": {},
   "outputs": [
    {
     "data": {
      "text/plain": [
       "array([[37, 88, 69, 99,  5],\n",
       "       [13, 43, 13, 56, 63],\n",
       "       [63, 16, 54, 46, 46],\n",
       "       [40, 68, 33, 40, 93]], dtype=int32)"
      ]
     },
     "execution_count": 3,
     "metadata": {},
     "output_type": "execute_result"
    }
   ],
   "source": [
    "arr"
   ]
  },
  {
   "cell_type": "code",
   "execution_count": 4,
   "id": "c20f2feb-1288-4dd8-b151-4983a96c36d1",
   "metadata": {},
   "outputs": [
    {
     "data": {
      "text/plain": [
       "array([[False,  True,  True,  True, False],\n",
       "       [False, False, False,  True,  True],\n",
       "       [ True, False,  True, False, False],\n",
       "       [False,  True, False, False,  True]])"
      ]
     },
     "execution_count": 4,
     "metadata": {},
     "output_type": "execute_result"
    }
   ],
   "source": [
    "arr>50"
   ]
  },
  {
   "cell_type": "code",
   "execution_count": 5,
   "id": "859d8021-f2af-43ad-a8bb-64a03431bb7a",
   "metadata": {},
   "outputs": [
    {
     "data": {
      "text/plain": [
       "array([88, 69, 99, 56, 63, 63, 54, 68, 93], dtype=int32)"
      ]
     },
     "execution_count": 5,
     "metadata": {},
     "output_type": "execute_result"
    }
   ],
   "source": [
    "arr[arr>50]"
   ]
  },
  {
   "cell_type": "code",
   "execution_count": 7,
   "id": "bbb7b78b-0be8-4ac5-8247-26518677b0f0",
   "metadata": {},
   "outputs": [
    {
     "data": {
      "text/plain": [
       "array([88, 56, 54, 68], dtype=int32)"
      ]
     },
     "execution_count": 7,
     "metadata": {},
     "output_type": "execute_result"
    }
   ],
   "source": [
    "arr[(arr>50) & (arr%2 == 0)]"
   ]
  },
  {
   "cell_type": "code",
   "execution_count": 9,
   "id": "bc3330c2-09c4-4f25-b176-475c44eae34f",
   "metadata": {},
   "outputs": [],
   "source": [
    "arr[(arr>50) & (arr%2 == 0)] =0"
   ]
  },
  {
   "cell_type": "code",
   "execution_count": 10,
   "id": "f78b76c9-fea7-40e5-9080-adcc6c5a4577",
   "metadata": {},
   "outputs": [
    {
     "data": {
      "text/plain": [
       "array([[37,  0, 69, 99,  5],\n",
       "       [13, 43, 13,  0, 63],\n",
       "       [63, 16,  0, 46, 46],\n",
       "       [40,  0, 33, 40, 93]], dtype=int32)"
      ]
     },
     "execution_count": 10,
     "metadata": {},
     "output_type": "execute_result"
    }
   ],
   "source": [
    "arr"
   ]
  },
  {
   "cell_type": "code",
   "execution_count": null,
   "id": "0f51e8b5-873b-403f-99ec-8a4383bda1f2",
   "metadata": {},
   "outputs": [],
   "source": []
  }
 ],
 "metadata": {
  "kernelspec": {
   "display_name": "Python 3 (ipykernel)",
   "language": "python",
   "name": "python3"
  },
  "language_info": {
   "codemirror_mode": {
    "name": "ipython",
    "version": 3
   },
   "file_extension": ".py",
   "mimetype": "text/x-python",
   "name": "python",
   "nbconvert_exporter": "python",
   "pygments_lexer": "ipython3",
   "version": "3.13.1"
  }
 },
 "nbformat": 4,
 "nbformat_minor": 5
}
