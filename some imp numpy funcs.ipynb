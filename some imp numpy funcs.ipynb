{
 "cells": [
  {
   "cell_type": "code",
   "execution_count": 1,
   "id": "65e0f985-465a-43a0-ac80-0b4ad635f3df",
   "metadata": {},
   "outputs": [],
   "source": [
    "import numpy as np"
   ]
  },
  {
   "cell_type": "code",
   "execution_count": 2,
   "id": "dad1a7a4-3c3d-4dad-8129-0cda716bdd71",
   "metadata": {},
   "outputs": [
    {
     "data": {
      "text/plain": [
       "0.7465169905986734"
      ]
     },
     "execution_count": 2,
     "metadata": {},
     "output_type": "execute_result"
    }
   ],
   "source": [
    "np.random.random()"
   ]
  },
  {
   "cell_type": "code",
   "execution_count": 3,
   "id": "65bc9473-2fe9-42e4-ba44-71cce8f46007",
   "metadata": {},
   "outputs": [
    {
     "data": {
      "text/plain": [
       "0.417022004702574"
      ]
     },
     "execution_count": 3,
     "metadata": {},
     "output_type": "execute_result"
    }
   ],
   "source": [
    "np.random.seed(1)\n",
    "np.random.random()"
   ]
  },
  {
   "cell_type": "code",
   "execution_count": 4,
   "id": "7a7765bb-25f4-48cd-a6ed-9a6af5e71529",
   "metadata": {},
   "outputs": [
    {
     "data": {
      "text/plain": [
       "72.31212485077366"
      ]
     },
     "execution_count": 4,
     "metadata": {},
     "output_type": "execute_result"
    }
   ],
   "source": [
    "np.random.uniform(1,100)"
   ]
  },
  {
   "cell_type": "code",
   "execution_count": 5,
   "id": "7e5d8a95-ac83-4919-b2fe-5f23acde580c",
   "metadata": {},
   "outputs": [
    {
     "data": {
      "text/plain": [
       "array([ 1.01132311, 30.93092469, 15.52883319, 10.14152088, 19.43976093,\n",
       "       35.21051198, 40.27997995, 54.34285667, 42.50025693, 68.83673054])"
      ]
     },
     "execution_count": 5,
     "metadata": {},
     "output_type": "execute_result"
    }
   ],
   "source": [
    "np.random.uniform(1,100,10)"
   ]
  },
  {
   "cell_type": "code",
   "execution_count": 7,
   "id": "3dd2ebbb-0f56-4eb3-b978-ebe7e589b8cd",
   "metadata": {},
   "outputs": [
    {
     "data": {
      "text/plain": [
       "array([[32.02899364, 69.53993895],\n",
       "       [87.76252608, 89.56605969],\n",
       "       [ 9.41937693,  4.86642354],\n",
       "       [17.81321154, 87.93610784],\n",
       "       [10.73633655, 42.68965488]])"
      ]
     },
     "execution_count": 7,
     "metadata": {},
     "output_type": "execute_result"
    }
   ],
   "source": [
    "np.random.uniform(1,100,10).reshape(5,2)"
   ]
  },
  {
   "cell_type": "code",
   "execution_count": 8,
   "id": "5968e731-52fa-49f5-8131-e262030e5e90",
   "metadata": {},
   "outputs": [
    {
     "data": {
      "text/plain": [
       "5"
      ]
     },
     "execution_count": 8,
     "metadata": {},
     "output_type": "execute_result"
    }
   ],
   "source": [
    "np.random.randint(10)"
   ]
  },
  {
   "cell_type": "code",
   "execution_count": 9,
   "id": "7c82e2ea-47d0-4358-b0fd-52f5451d03be",
   "metadata": {},
   "outputs": [
    {
     "data": {
      "text/plain": [
       "array([50, 58,  4, 69, 25, 44, 77, 27, 53, 81], dtype=int32)"
      ]
     },
     "execution_count": 9,
     "metadata": {},
     "output_type": "execute_result"
    }
   ],
   "source": [
    "np.random.randint(1,100,10)"
   ]
  },
  {
   "cell_type": "code",
   "execution_count": 10,
   "id": "ae1f703b-2f91-41cd-b759-c1b9aa675560",
   "metadata": {},
   "outputs": [
    {
     "data": {
      "text/plain": [
       "array([[42, 83],\n",
       "       [16, 65],\n",
       "       [69, 26],\n",
       "       [99, 88],\n",
       "       [ 8, 27]], dtype=int32)"
      ]
     },
     "execution_count": 10,
     "metadata": {},
     "output_type": "execute_result"
    }
   ],
   "source": [
    "np.random.randint(1,100,10).reshape(5,2)"
   ]
  },
  {
   "cell_type": "code",
   "execution_count": 11,
   "id": "a4abd6d9-67d2-4da2-8401-4aceb0e6698e",
   "metadata": {},
   "outputs": [
    {
     "data": {
      "text/plain": [
       "array([26, 41, 23, 10,  4, 40], dtype=int32)"
      ]
     },
     "execution_count": 11,
     "metadata": {},
     "output_type": "execute_result"
    }
   ],
   "source": [
    "a=np.random.randint(1,50,6)\n",
    "a"
   ]
  },
  {
   "cell_type": "code",
   "execution_count": 12,
   "id": "6f4dd359-93f4-4974-9acc-0117748b31b0",
   "metadata": {},
   "outputs": [
    {
     "data": {
      "text/plain": [
       "np.int32(41)"
      ]
     },
     "execution_count": 12,
     "metadata": {},
     "output_type": "execute_result"
    }
   ],
   "source": [
    "np.max(a)"
   ]
  },
  {
   "cell_type": "code",
   "execution_count": 13,
   "id": "de9041a6-1c4a-4928-8e80-8be454993829",
   "metadata": {},
   "outputs": [
    {
     "data": {
      "text/plain": [
       "np.int32(4)"
      ]
     },
     "execution_count": 13,
     "metadata": {},
     "output_type": "execute_result"
    }
   ],
   "source": [
    "np.min(a)"
   ]
  },
  {
   "cell_type": "code",
   "execution_count": 14,
   "id": "28d4b348-0242-44e0-90c3-60866834c347",
   "metadata": {},
   "outputs": [
    {
     "data": {
      "text/plain": [
       "np.int32(41)"
      ]
     },
     "execution_count": 14,
     "metadata": {},
     "output_type": "execute_result"
    }
   ],
   "source": [
    "a[np.argmax(a)]"
   ]
  },
  {
   "cell_type": "code",
   "execution_count": 15,
   "id": "e9e13ff1-f466-4409-89ae-8f2b6f22282c",
   "metadata": {},
   "outputs": [
    {
     "data": {
      "text/plain": [
       "np.int64(4)"
      ]
     },
     "execution_count": 15,
     "metadata": {},
     "output_type": "execute_result"
    }
   ],
   "source": [
    "np.argmin(a)"
   ]
  },
  {
   "cell_type": "code",
   "execution_count": 16,
   "id": "0d63b084-b620-4e0c-a804-f20ec6dd7ec5",
   "metadata": {},
   "outputs": [],
   "source": [
    "a[a%2==1]=-1"
   ]
  },
  {
   "cell_type": "code",
   "execution_count": 17,
   "id": "3c1143f2-13ea-4bd0-8115-fe1c6933bed3",
   "metadata": {},
   "outputs": [
    {
     "data": {
      "text/plain": [
       "array([26, -1, -1, 10,  4, 40], dtype=int32)"
      ]
     },
     "execution_count": 17,
     "metadata": {},
     "output_type": "execute_result"
    }
   ],
   "source": [
    "a"
   ]
  },
  {
   "cell_type": "code",
   "execution_count": 18,
   "id": "c3afaddc-3afb-4993-a2c0-2d181facfbeb",
   "metadata": {},
   "outputs": [
    {
     "data": {
      "text/plain": [
       "array([-1, -1, -1, -1, -1, -1], dtype=int32)"
      ]
     },
     "execution_count": 18,
     "metadata": {},
     "output_type": "execute_result"
    }
   ],
   "source": [
    "np.where(a%2==0,-1,a)"
   ]
  },
  {
   "cell_type": "code",
   "execution_count": 19,
   "id": "32c06481-3fdd-4550-bdd5-4e83f30342e9",
   "metadata": {},
   "outputs": [
    {
     "data": {
      "text/plain": [
       "array([26, -1, -1, 10,  4, 40], dtype=int32)"
      ]
     },
     "execution_count": 19,
     "metadata": {},
     "output_type": "execute_result"
    }
   ],
   "source": [
    "np.where(a%2==1,-1,a)"
   ]
  },
  {
   "cell_type": "code",
   "execution_count": 20,
   "id": "63afe49a-4226-42f3-abce-de125ef8a4ca",
   "metadata": {},
   "outputs": [
    {
     "data": {
      "text/plain": [
       "array([26, -1, -1, 10,  4, 40], dtype=int32)"
      ]
     },
     "execution_count": 20,
     "metadata": {},
     "output_type": "execute_result"
    }
   ],
   "source": [
    "a"
   ]
  },
  {
   "cell_type": "code",
   "execution_count": 21,
   "id": "64848a8c-f9c8-493f-94bc-b26c28cb2817",
   "metadata": {},
   "outputs": [],
   "source": [
    "c=np.random.randint(1,50,10)"
   ]
  },
  {
   "cell_type": "code",
   "execution_count": 22,
   "id": "af34900e-b57e-4fb9-ae2d-1522139565d4",
   "metadata": {},
   "outputs": [
    {
     "data": {
      "text/plain": [
       "array([24, 37, 28, 38, 20, 39,  9, 33, 35, 11], dtype=int32)"
      ]
     },
     "execution_count": 22,
     "metadata": {},
     "output_type": "execute_result"
    }
   ],
   "source": [
    "c"
   ]
  },
  {
   "cell_type": "code",
   "execution_count": 23,
   "id": "950926c3-55e6-4b13-938d-bdd5a46e7c45",
   "metadata": {},
   "outputs": [],
   "source": [
    "c=np.sort(c)"
   ]
  },
  {
   "cell_type": "code",
   "execution_count": 24,
   "id": "881aadad-839e-4988-b523-0bde6e004be6",
   "metadata": {},
   "outputs": [
    {
     "data": {
      "text/plain": [
       "array([ 9, 11, 20, 24, 28, 33, 35, 37, 38, 39], dtype=int32)"
      ]
     },
     "execution_count": 24,
     "metadata": {},
     "output_type": "execute_result"
    }
   ],
   "source": [
    "c"
   ]
  },
  {
   "cell_type": "code",
   "execution_count": 25,
   "id": "6161ceae-dfd0-4bd0-b90f-f06180114a6a",
   "metadata": {},
   "outputs": [
    {
     "data": {
      "text/plain": [
       "np.float64(30.5)"
      ]
     },
     "execution_count": 25,
     "metadata": {},
     "output_type": "execute_result"
    }
   ],
   "source": [
    "np.percentile(c,50)"
   ]
  },
  {
   "cell_type": "code",
   "execution_count": 26,
   "id": "2f357635-7134-4d9d-97cb-befcee797b9d",
   "metadata": {},
   "outputs": [
    {
     "data": {
      "text/plain": [
       "np.float64(21.0)"
      ]
     },
     "execution_count": 26,
     "metadata": {},
     "output_type": "execute_result"
    }
   ],
   "source": [
    "np.percentile(c,25)"
   ]
  },
  {
   "cell_type": "code",
   "execution_count": 27,
   "id": "cbf44e9c-55d5-4738-8d60-a9d101d3c399",
   "metadata": {},
   "outputs": [
    {
     "data": {
      "text/plain": [
       "np.float64(38.982)"
      ]
     },
     "execution_count": 27,
     "metadata": {},
     "output_type": "execute_result"
    }
   ],
   "source": [
    "np.percentile(c,99.8)"
   ]
  },
  {
   "cell_type": "code",
   "execution_count": null,
   "id": "55b84e4d-25b6-409c-8aeb-d6262a965f8c",
   "metadata": {},
   "outputs": [],
   "source": []
  }
 ],
 "metadata": {
  "kernelspec": {
   "display_name": "Python 3 (ipykernel)",
   "language": "python",
   "name": "python3"
  },
  "language_info": {
   "codemirror_mode": {
    "name": "ipython",
    "version": 3
   },
   "file_extension": ".py",
   "mimetype": "text/x-python",
   "name": "python",
   "nbconvert_exporter": "python",
   "pygments_lexer": "ipython3",
   "version": "3.13.1"
  }
 },
 "nbformat": 4,
 "nbformat_minor": 5
}
